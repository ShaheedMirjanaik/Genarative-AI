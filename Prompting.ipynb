{
  "cells": [
    {
      "cell_type": "markdown",
      "metadata": {
        "id": "v_6gH6K81Brr"
      },
      "source": [
        "## Prompting Handson: Zero Shot, Few Shot, Chain of Thought and ReAct"
      ]
    },
    {
      "cell_type": "markdown",
      "metadata": {
        "id": "fM5N9Dyi0-ZQ"
      },
      "source": [
        "\n",
        "## 1. Setup\n",
        "Install and import necessary libraries.\n",
        "\n"
      ]
    },
    {
      "cell_type": "code",
      "execution_count": 15,
      "metadata": {
        "colab": {
          "base_uri": "https://localhost:8080/"
        },
        "id": "QhDyFKrDzx-Y",
        "outputId": "c9d5f5fe-222c-490d-f612-c010bc415bc0",
        "collapsed": true
      },
      "outputs": [
        {
          "output_type": "stream",
          "name": "stdout",
          "text": [
            "Requirement already satisfied: groq in /usr/local/lib/python3.11/dist-packages (0.18.0)\n",
            "Requirement already satisfied: python-dotenv in /usr/local/lib/python3.11/dist-packages (1.0.1)\n",
            "Requirement already satisfied: anyio<5,>=3.5.0 in /usr/local/lib/python3.11/dist-packages (from groq) (3.7.1)\n",
            "Requirement already satisfied: distro<2,>=1.7.0 in /usr/local/lib/python3.11/dist-packages (from groq) (1.9.0)\n",
            "Requirement already satisfied: httpx<1,>=0.23.0 in /usr/local/lib/python3.11/dist-packages (from groq) (0.28.1)\n",
            "Requirement already satisfied: pydantic<3,>=1.9.0 in /usr/local/lib/python3.11/dist-packages (from groq) (2.10.6)\n",
            "Requirement already satisfied: sniffio in /usr/local/lib/python3.11/dist-packages (from groq) (1.3.1)\n",
            "Requirement already satisfied: typing-extensions<5,>=4.10 in /usr/local/lib/python3.11/dist-packages (from groq) (4.12.2)\n",
            "Requirement already satisfied: idna>=2.8 in /usr/local/lib/python3.11/dist-packages (from anyio<5,>=3.5.0->groq) (3.10)\n",
            "Requirement already satisfied: certifi in /usr/local/lib/python3.11/dist-packages (from httpx<1,>=0.23.0->groq) (2025.1.31)\n",
            "Requirement already satisfied: httpcore==1.* in /usr/local/lib/python3.11/dist-packages (from httpx<1,>=0.23.0->groq) (1.0.7)\n",
            "Requirement already satisfied: h11<0.15,>=0.13 in /usr/local/lib/python3.11/dist-packages (from httpcore==1.*->httpx<1,>=0.23.0->groq) (0.14.0)\n",
            "Requirement already satisfied: annotated-types>=0.6.0 in /usr/local/lib/python3.11/dist-packages (from pydantic<3,>=1.9.0->groq) (0.7.0)\n",
            "Requirement already satisfied: pydantic-core==2.27.2 in /usr/local/lib/python3.11/dist-packages (from pydantic<3,>=1.9.0->groq) (2.27.2)\n"
          ]
        }
      ],
      "source": [
        "!pip install groq python-dotenv\n",
        "\n",
        "import os\n",
        "from groq import Groq\n",
        "\n",
        "client = Groq(api_key=\"GROQ_API\")"
      ]
    },
    {
      "cell_type": "markdown",
      "metadata": {
        "id": "UMKEz6Wj3AS8"
      },
      "source": [
        "# 2. Zero Shot and Few Shot\n",
        "\n",
        "What's a shot 😶?\n",
        "\n",
        "In machine learning, specifically in Few-shot and Zero-shot learning, a **\"shot\" refers to an example provided to the model to help it understand the task.**"
      ]
    },
    {
      "cell_type": "markdown",
      "metadata": {
        "id": "mlwQ4-6-3JMV"
      },
      "source": [
        "# Let's look at an analogy:\n",
        "Imagine you're teaching someone how to drive a car.\n",
        "\n",
        "# **Zero-Shot Prompting (No Examples Given)**\n",
        "\n",
        "  💡 Scenario: You hand the car keys to a person who has never driven before and say:\n",
        "  \"Drive to the grocery store.\"\n",
        "\n",
        "  🔍 What happens?\n",
        "\n",
        "  If they’ve never driven before, they’ll struggle.\n",
        "  If they’ve seen others drive, they might guess how to do it, but mistakes are likely.\n",
        "\n",
        "  💡 AI Equivalent:\n",
        "\n",
        "  The model is asked to generate an answer without any examples.\n",
        "  It relies on what it has already learned during training.\n",
        "\n",
        "# **Few-Shot Prompting (Providing Examples Before Asking)**\n",
        "\n",
        "  💡 Scenario: Before giving them the keys, you drive them to the grocery store a few times and explain each step:\n",
        "  \"First, start the car. Then, press the gas slowly. Stop at red lights…\"\n",
        "\n",
        "  🔍 What happens?\n",
        "\n",
        "  They learn by observing and following patterns.\n",
        "  When asked to drive, they can replicate the process more accurately.\n",
        "\n",
        "  💡 AI Equivalent:\n",
        "\n",
        "  The model is given a few examples before being asked to generate a response.\n",
        "  It understands the pattern and performs better than in zero-shot prompting.\n",
        "\n"
      ]
    },
    {
      "cell_type": "markdown",
      "metadata": {
        "id": "UStEiMXB4Moo"
      },
      "source": [
        "**SUMMARY**\n",
        " ### Zero-Shot Learning\n",
        "- Model solves task without any examples\n",
        "\n",
        "- Relies entirely on pre-trained knowledge\n",
        "\n",
        "- Example: \"Classify this text as positive or negative: {text}\"\n",
        "\n",
        "### Few-Shot Learning\n",
        "- Model is given 2-5 examples before the target task\n",
        "\n",
        "- Helps establish pattern/format\n",
        "\n",
        "- Example: \"Apple -> fruit, Carrot -> vegetable, Potato -> ?\"\n"
      ]
    },
    {
      "cell_type": "code",
      "execution_count": 26,
      "metadata": {
        "id": "cSSZHWIu4qH-"
      },
      "outputs": [],
      "source": [
        "def prompt_groq(prompt):\n",
        "    response = client.chat.completions.create(\n",
        "        model=\"llama3-8b-8192\",  # Choose your model\n",
        "        messages=[{\"role\": \"user\", \"content\": prompt}]\n",
        "    )\n",
        "    return response.choices[0].message.content"
      ]
    },
    {
      "cell_type": "markdown",
      "metadata": {
        "id": "h2k6QHpp4u-7"
      },
      "source": [
        "## 1. **Zero-Shot Prompting Example**"
      ]
    },
    {
      "cell_type": "code",
      "execution_count": 17,
      "metadata": {
        "colab": {
          "base_uri": "https://localhost:8080/"
        },
        "id": "eiDOhOcp4_0A",
        "outputId": "13aebd37-126a-459c-934a-c1f26afb29fe",
        "collapsed": true
      },
      "outputs": [
        {
          "output_type": "stream",
          "name": "stdout",
          "text": [
            "Zero-Shot Result:\n",
            " A classic French greeting!\n",
            "\n",
            "The translation of \"Bonjour, comment ça va?\" is:\n",
            "\n",
            "\"Good day, how are you?\"\n",
            "\n",
            "Breakdown:\n",
            "\n",
            "* \"Bonjour\" means \"Good day\" or \"Hello\".\n",
            "* \"comment\" means \"how\".\n",
            "* \"ça\" is a contraction of \"c'est\" (it is) and refers to the general state of something.\n",
            "* \"va\" is the present tense of the verb \"aller\" (to go) and means \"goes\" or \"happens\".\n",
            "* The whole phrase is a polite way to ask about someone's well-being or how their day is going.\n"
          ]
        }
      ],
      "source": [
        "zero_shot_prompt = \"Translate the sentence 'Bonjour, comment ça va?' into English.\"  # You can try translating this to other languages too!\n",
        "zero_shot_result = prompt_groq(zero_shot_prompt)\n",
        "print(\"Zero-Shot Result:\\n\", zero_shot_result)"
      ]
    },
    {
      "cell_type": "code",
      "execution_count": 18,
      "metadata": {
        "colab": {
          "base_uri": "https://localhost:8080/"
        },
        "id": "63Un8y9VAyXZ",
        "outputId": "126b1496-5554-42f1-e867-8384d97f1936",
        "collapsed": true
      },
      "outputs": [
        {
          "output_type": "stream",
          "name": "stdout",
          "text": [
            "Zero-Shot Result:\n",
            " This sentence is positive! The use of the word \"love\" and the intensifier \"absolutely\" indicate a strong positive sentiment towards the new phone.\n"
          ]
        }
      ],
      "source": [
        "zero_shot_prompt2=\" Classify if this sentence is positive, negative or neutral 'I absolutely love this new phone!' \"\n",
        "zero_shot_result2 = prompt_groq(zero_shot_prompt2)\n",
        "print(\"Zero-Shot Result:\\n\", zero_shot_result2)"
      ]
    },
    {
      "cell_type": "markdown",
      "metadata": {
        "id": "b1LNUuKtBMMx"
      },
      "source": [
        "## 2. **Few-Shot Prompting Example**"
      ]
    },
    {
      "cell_type": "code",
      "execution_count": 19,
      "metadata": {
        "colab": {
          "base_uri": "https://localhost:8080/"
        },
        "id": "ywTfkB8M0jZP",
        "outputId": "37645f0c-3268-422c-f7ab-1bf3d6b30a28",
        "collapsed": true
      },
      "outputs": [
        {
          "output_type": "stream",
          "name": "stdout",
          "text": [
            "\n",
            "Few-Shot Result:\n",
            " English: \"I am a student.\"\n",
            "\n",
            "Let me know if you have more sentences to translate!\n"
          ]
        }
      ],
      "source": [
        "few_shot_prompt = \"\"\"\n",
        "Translate the following French sentences to English:\n",
        "French: \"Bonjour, comment ça va?\"\n",
        "English: \"Hello, how are you?\"\n",
        "\n",
        "French: \"Merci beaucoup!\"\n",
        "English: \"Thank you very much!\"\n",
        "\n",
        "French: \"Je suis étudiant.\"\n",
        "English:\n",
        "\"\"\"\n",
        "few_shot_result = prompt_groq(few_shot_prompt)\n",
        "print(\"\\nFew-Shot Result:\\n\", few_shot_result)\n"
      ]
    },
    {
      "cell_type": "markdown",
      "metadata": {
        "id": "rhhvuA_KBlbz"
      },
      "source": [
        "#  3. Chain of Thought (CoT)\n",
        "\n",
        "What is Chain of Thought?\n",
        "\n",
        "Chain of Thought (CoT) is a prompting technique where the model is guided to solve a problem step-by-step, mimicking human reasoning. It is particularly useful for complex tasks like arithmetic, logic, and planning.\n",
        "\n",
        "**Summary:**\n",
        "\n",
        "### Chain-of-Thought (CoT)\n",
        "- Explicit step-by-step reasoning demonstration\n",
        "\n",
        "- Combines few-shot with reasoning steps\n",
        "\n",
        "- Especially useful for complex problems\n",
        "\n",
        "\n",
        "\n",
        "\n",
        "\n",
        "Example: Solving a Math Problem"
      ]
    },
    {
      "cell_type": "code",
      "execution_count": 20,
      "metadata": {
        "colab": {
          "base_uri": "https://localhost:8080/"
        },
        "id": "M6iPIofPBVNY",
        "outputId": "d317cec6-7333-4515-f5be-dded4176fba8",
        "collapsed": true
      },
      "outputs": [
        {
          "output_type": "stream",
          "name": "stdout",
          "text": [
            "\n",
            "Chain of Thought Result:\n",
            " Let's solve the problem step by step:\n",
            "\n",
            "Step 1: John starts with 3 apples.\n",
            "\n",
            "Step 2: He buys 5 more apples. To find the total number of apples he has, we add 3 (the number of apples he had initially) to 5 (the number of apples he buys):\n",
            "\n",
            "3 (initial apples) + 5 (new apples) = 8 apples\n",
            "\n",
            "So, John now has 8 apples.\n",
            "\n",
            "Step 3: He gives 2 apples to his friend. To find the number of apples he has left, we subtract 2 (the number of apples he gives away) from 8 (the total number of apples he had):\n",
            "\n",
            "8 (total apples) - 2 (apples given away) = 6 apples\n",
            "\n",
            "Therefore, John has 6 apples now.\n"
          ]
        }
      ],
      "source": [
        "cot_prompt = \"\"\"\n",
        "Solve the following math problem step by step:\n",
        "\n",
        "Question: John has 3 apples. He buys 5 more apples and gives 2 to his friend. How many apples does he have now?\n",
        "\n",
        "Step 1: John starts with 3 apples.\n",
        "Step 2: He buys 5 more apples. Now he has 3 + 5 = 8 apples.\n",
        "Step 3: He gives 2 apples to his friend. Now he has\n",
        "\"\"\"\n",
        "cot_result = prompt_groq(cot_prompt)\n",
        "print(\"\\nChain of Thought Result:\\n\", cot_result)\n"
      ]
    },
    {
      "cell_type": "markdown",
      "metadata": {
        "id": "0_ptfAtv4TiC"
      },
      "source": [
        "##4. Graph-of-Thought\n",
        "\n",
        "Graph of Thoughts (GoT) is a reasoning framework where multiple solution paths are explored simultaneously and compared before reaching a final decision. Unlike linear approaches (like CoT), GoT enables a model to analyze multiple aspects of a problem in parallel and dynamically connect different ideas to form an optimized solution.\n",
        "\n",
        "Example:\n",
        "A model evaluating different investment strategies based on factors like risk, return, and market trends, allowing it to assess multiple possibilities before recommending the best approach."
      ]
    },
    {
      "cell_type": "code",
      "execution_count": 22,
      "metadata": {
        "colab": {
          "base_uri": "https://localhost:8080/"
        },
        "id": "0pqH1hFbv1wK",
        "outputId": "630b1142-f3b5-4a6e-a270-fae1a8a1eef1",
        "collapsed": true
      },
      "outputs": [
        {
          "output_type": "stream",
          "name": "stdout",
          "text": [
            "Graph of Thoughts Result:\n",
            " Let's evaluate each destination based on the three factors:\n",
            "\n",
            "**Japan**\n",
            "\n",
            "* **Budget**: Moderate to high (accommodation, food, and activities can be expensive, especially in bigger cities like Tokyo)\n",
            "* **Weather**: Varies depending on the season, but generally mild (10-20°C/50-68°F) with sunshine most days\n",
            "* **Cultural experiences**: High (unique blend of traditional and modern culture, rich history, delicious food, and stunning natural landscapes)\n",
            "\n",
            "**Italy**\n",
            "\n",
            "* **Budget**: Moderate (accommodation, food, and activities can be affordable, but luxury options are also available)\n",
            "* **Weather**: Mediterranean climate, mild winters (10-15°C/50-59°F) and warm summers (20-30°C/68-86°F)\n",
            "* **Cultural experiences**: High (rich history, art, architecture, food, wine, and stunning landscapes)\n",
            "\n",
            "**Australia**\n",
            "\n",
            "* **Budget**: High (accommodation, food, and activities can be expensive, especially in popular tourist areas)\n",
            "* **Weather**: Varies depending on the season (summer: 20-30°C/68-86°F, winter: 10-20°C/50-68°F, with a mostly sunny climate)\n",
            "* **Cultural experiences**: High (unique Aboriginal culture, modern cities, stunning beaches, and natural landscapes)\n",
            "\n",
            "Based on these evaluations, here's a parallel analysis:\n",
            "\n",
            "* **Budget**: Japan and Italy are more budget-friendly compared to Australia. However, all three destinations offer a range of accommodation options, so budget travelers can find affordable choices.\n",
            "* **Weather**: Japan's weather is more unpredictable, with varying temperatures depending on the season. Italy has a more consistent Mediterranean climate, while Australia's weather is generally mild and sunny.\n",
            "* **Cultural experiences**: All three destinations offer rich cultural experiences, but Japan's unique blend of traditional and modern culture sets it apart. Italy's rich history and art heritage are unparalleled, while Australia's unique Aboriginal culture and stunning natural landscapes are a draw.\n",
            "\n",
            "Considering these factors, I would recommend **Japan** as the top choice for a one-week vacation. While it may be more expensive than Italy, the unique cultural experiences and stunning natural landscapes make it an unforgettable destination. Japan's moderate climate, with mild winters and warm summers, is also suitable for most travelers.\n",
            "\n",
            "Italy is a close second, with its rich history, art, and architecture. However, the weather may be more inconsistent, with hot summers and mild winters. Australia, while offering stunning natural landscapes and unique cultural experiences, is the most expensive of the three options, making it less budget-friendly for a one-week vacation.\n",
            "\n",
            "Ultimately, the choice depends on personal preferences and priorities. If budget is a primary concern, Italy might be a better option. If you're looking for a unique cultural experience and don't mind spending a bit more, Japan is the way to go.\n"
          ]
        }
      ],
      "source": [
        "got_prompt = \"\"\"You are planning a one-week vacation and need to decide between visiting Japan, Italy, or Australia.\n",
        "Evaluate each destination based on three factors:\n",
        "- Budget\n",
        "- Weather\n",
        "- Cultural experiences.\n",
        "Analyze all options in parallel and justify your final choice.\"\"\"\n",
        "got_result = prompt_groq(got_prompt)\n",
        "print(\"Graph of Thoughts Result:\\n\", got_result)"
      ]
    },
    {
      "cell_type": "markdown",
      "metadata": {
        "id": "Xq0w8DDK3_vc"
      },
      "source": [
        "##5. Tree-of-Thought\n",
        "Tree of Thoughts (ToT) is a structured problem-solving approach where a model breaks a task into hierarchical steps, evaluates possible solutions at each level, and chooses the most optimal path. Unlike GoT, which considers multiple ideas in parallel, ToT follows a decision tree format, where each step influences the next.\n",
        "\n"
      ]
    },
    {
      "cell_type": "code",
      "execution_count": 23,
      "metadata": {
        "colab": {
          "base_uri": "https://localhost:8080/"
        },
        "id": "fVAMG3Hy3kA_",
        "outputId": "2924911c-00bc-4f6b-bff5-f79e3a3b196c",
        "collapsed": true
      },
      "outputs": [
        {
          "output_type": "stream",
          "name": "stdout",
          "text": [
            "Tree of Thoughts Result:\n",
            " Here's a walkthrough of the steps to help the startup choose the best option:\n",
            "\n",
            "**Step 1: Analyze potential challenges**\n",
            "\n",
            "* Fitness tracker:\n",
            "\t+ High competition in the market with established players like Fitbit and Apple Health\n",
            "\t+ Difficulty in differentiating the app from existing solutions\n",
            "\t+ Potential user privacy concerns (e.g., collecting sensitive health data)\n",
            "* Budgeting tool:\n",
            "\t+ Limited user engagement and retention potential\n",
            "\t+ High competition from established financial management apps like Mint and You Need a Budget (YNAB)\n",
            "\t+ Potential complexity in offering comprehensive budgeting features\n",
            "* Social networking app:\n",
            "\t+ High competition in the crowded social media landscape\n",
            "\t+ Difficulty in attracting and retaining users in a crowded marketplace\n",
            "\t+ Potential user data privacy and security concerns\n",
            "\n",
            "**Step 2: Evaluate market demand**\n",
            "\n",
            "* Fitness tracker:\n",
            "\t+ The global fitness tracking market is projected to reach $18.3 billion by 2025, growing at a CAGR of 15.6% (Source: Grand View Research)\n",
            "\t+ Increasing popularity of wearable devices and exercise tracking\n",
            "* Budgeting tool:\n",
            "\t+ The global personal finance management software market is projected to reach $13.4 billion by 2026, growing at a CAGR of 12.5% (Source: MarketsandMarkets)\n",
            "\t+ Growing demand for digital financial management solutions\n",
            "* Social networking app:\n",
            "\t+ The global social media market is expected to reach $143.9 billion by 2023, growing at a CAGR of 10.1% (Source: Statista)\n",
            "\t+ Continued popularity of social media use among users\n",
            "\n",
            "**Step 3: Compare revenue models**\n",
            "\n",
            "* Fitness tracker:\n",
            "\t+ Pricing model: freemium or subscription-based (e.g., offer premium features for a monthly fee)\n",
            "\t+ Advertising: display ads or sponsored fitness challenges\n",
            "\t+ Partnerships: integrate with fitness studios, gyms, or wellness centers for revenue sharing\n",
            "* Budgeting tool:\n",
            "\t+ Freemium model: offer basic features for free, and charge for premium features or advanced reporting\n",
            "\t+ Advertising: display ads or sponsored finance content\n",
            "\t+ Partnerships: offers financial institution partnerships for co-branding and revenue sharing\n",
            "* Social networking app:\n",
            "\t+ Freemium model: offer basic features for free, and charge for premium features (e.g., ad-free experience, storage upgrade)\n",
            "\t+ Advertising: display ads, sponsored content, or influencer partnerships\n",
            "\t+ Partnerships: integrate with e-commerce platforms for affiliate marketing or commission-based sales\n",
            "\n",
            "**Step 4: Choose the best option and justify the decision**\n",
            "\n",
            "Based on the analysis, the startup chooses to launch a budgeting tool. Here's why:\n",
            "\n",
            "* The budgeting tool market is growing, but not as competitive as the fitness tracker market.\n",
            "* While there are established players in the budgeting space, there is still room for innovation and differentiation.\n",
            "* A budgeting tool offers a revenue model with opportunities for freemium pricing, advertising, and partnerships with financial institutions.\n",
            "* User data privacy concerns are relatively lower compared to fitness tracking or social networking.\n",
            "* By focusing on budgeting, the startup can target a specific pain point and offer a valuable service to users, increasing the likelihood of user engagement and retention.\n",
            "\n",
            "In conclusion, the budgeting tool option offers a balance of market demand, revenue potential, and differentiation, making it the most attractive choice for the startup.\n"
          ]
        }
      ],
      "source": [
        "tot_prompt = \"\"\"A startup wants to launch a new mobile app. They have three options: a fitness tracker, a budgeting tool, and a social networking app.\n",
        "Step 1: Analyze potential challenges.\n",
        "Step 2: Evaluate market demand.\n",
        "Step 3: Compare revenue models.\n",
        "Step 4: Choose the best option and justify the decision.\"\"\"\n",
        "tot_result = prompt_groq(tot_prompt)\n",
        "print(\"Tree of Thoughts Result:\\n\", tot_result)"
      ]
    },
    {
      "cell_type": "markdown",
      "metadata": {
        "id": "S4RhLKrMB0_-"
      },
      "source": [
        "# 6. ReAct (Reasoning + Acting)\n",
        "\n",
        "### What is ReAct?\n",
        "ReAct combines Reasoning and Acting to enable models to interact with external tools (e.g., APIs, databases) while reasoning through a problem. It is particularly useful for tasks requiring dynamic information retrieval.\n",
        "\n",
        "Example: Using ReAct to Answer a Question\n",
        "\n",
        "\n",
        "Let’s simulate a ReAct workflow where the model retrieves information from an external API.\n",
        "\n",
        "This is the fundamental basis of AI Agents (Thinking + Action)"
      ]
    },
    {
      "cell_type": "code",
      "execution_count": 24,
      "metadata": {
        "colab": {
          "base_uri": "https://localhost:8080/"
        },
        "id": "p3Bf002FBjlL",
        "outputId": "7d5b6467-2945-42cc-8d3e-1cbeab200778"
      },
      "outputs": [
        {
          "output_type": "stream",
          "name": "stdout",
          "text": [
            "Here is the step-by-step process to convert the speed of light from m/s to km/h:\n",
            "\n",
            "Thought: The query requires converting the speed of light from meters per second (m/s) to kilometers per hour (km/h). To do this, we need to know the speed of light in m/s.\n",
            "\n",
            "Action: search(\"speed of light in m/s\")\n",
            "Observation: The speed of light in a vacuum is approximately 299,792,458 meters per second.\n",
            "\n",
            "Thought: Now that we have the speed of light in m/s, we need to convert it to km/h. We can use the convert tool to do this.\n",
            "\n",
            "Action: convert(299,792,458, \"m/s\", \"km/h\")\n",
            "Observation: The speed of light is approximately 1,079,252,808 km/h.\n",
            "\n",
            "Verification: Let's cross-check the result by doing the conversion manually. There are 1000 meters in a kilometer and 3600 seconds in an hour. So, we can convert m/s to km/h by multiplying by (3600/1000). Doing the calculation, we get approximately 1,079,252,808 km/h, which matches our previous result.\n",
            "\n",
            "Final Answer: The speed of light is approximately 1,079,252,808 kilometers per hour.\n"
          ]
        }
      ],
      "source": [
        "def react(query: str) -> str:\n",
        "    prompt = f\"\"\"Answer using the ReAct format with available tools:\n",
        "\n",
        "    Tools:\n",
        "    - search: General knowledge lookup\n",
        "    - calculate: Math operations\n",
        "    - convert: Unit conversions\n",
        "\n",
        "    Query: {query}\n",
        "\n",
        "    Step-by-Step Process:\n",
        "    1. Analyze query requirements\n",
        "    2. Identify needed information\n",
        "    3. Choose appropriate tools\n",
        "    4. Execute actions sequentially\n",
        "    5. Validate intermediate results\n",
        "    6. Formulate final answer\n",
        "\n",
        "    Follow this template:\n",
        "    Thought: [Detailed reasoning]\n",
        "    Action: [Tool call]\n",
        "    Observation: [Tool response]\n",
        "    ...repeat...\n",
        "    Verification: [Cross-check results]\n",
        "    Final Answer: [Concise answer]\"\"\"\n",
        "\n",
        "    response = client.chat.completions.create(\n",
        "        messages=[{\"role\": \"user\", \"content\": prompt}],\n",
        "        model=\"llama3-70b-8192\",\n",
        "        temperature=0.3,\n",
        "        max_tokens=600\n",
        "    )\n",
        "    return response.choices[0].message.content\n",
        "\n",
        "# Test\n",
        "print(react(\"Convert the speed of light from m/s to km/h\"))"
      ]
    },
    {
      "cell_type": "markdown",
      "metadata": {
        "id": "Hcbr5KfVCLSl"
      },
      "source": [
        "#### Explanation\n",
        "- The model reasons through the problem and interacts with an external tool (API) to retrieve information.\n",
        "\n",
        "- This approach is useful for tasks requiring up-to-date or external data."
      ]
    },
    {
      "cell_type": "markdown",
      "metadata": {
        "id": "3YBl8HDbCNHJ"
      },
      "source": [
        "## 5. Comparison of CoT, and ReAct\n",
        "\n",
        "| Method | Description | Use Case |\n",
        "|--------|-------------|-----------|\n",
        "| Chain of Thought | Linear step-by-step reasoning | Arithmetic, logic, planning |\n",
        "| ReAct | Combines reasoning with external actions (e.g., API calls) | Dynamic information retrieval |"
      ]
    },
    {
      "cell_type": "markdown",
      "metadata": {
        "id": "6zuu8P9mFLke"
      },
      "source": [
        "##**Assignment Task**"
      ]
    },
    {
      "cell_type": "markdown",
      "metadata": {
        "id": "dSsenUEcEMS_"
      },
      "source": [
        "\n",
        "#### **1️. Zero-Shot Prompting**  \n",
        "**Q:** Classify the sentiment of this sentence: 'The service at the restaurant was incredibly slow and disappointing.' as positive, negative, or neutral.\n",
        "\n",
        "\n",
        "\n",
        "#### **2️. Few-Shot Prompting**  \n",
        "**Q:** Identify the language of this sentence: 'Das Wetter ist heute schön.'\n",
        "- **Examples:**  \n",
        "  - 'Bonjour, comment ça va?' is French  \n",
        "  - 'Hola, ¿cómo estás?' is Spanish\n",
        "  - 'Guten Tag, wie geht es Ihnen?' is German\n",
        "\n",
        "\n",
        "\n",
        "#### **3️. Chain of Thought (CoT) Prompting**  \n",
        "**Q:** A train travels at 60 km/h for 2 hours, then at 80 km/h for 3 hours. What is the total distance traveled? Show your calculations step by step.\n",
        "\n",
        "\n",
        "#### **4. Graph of Thought (GoT) Prompting**  \n",
        "**Q:** You are designing an AI debate assistant that helps users form strong arguments on controversial topics (e.g., \"Should AI replace human jobs?\"). The AI must consider multiple perspectives before generating a well-balanced argument.\n",
        "\n",
        "Question:\n",
        "\n",
        "Create a GoT-based prompt that enables the AI to simultaneously evaluate multiple viewpoints (e.g., economic, ethical, social, technological) before forming an answer.\n",
        "Ensure that the model dynamically connects different perspectives rather than following a single train of thought.\n",
        "\n",
        "#### **5. Train of Thought (GoT) Prompting**  \n",
        "**Q:** You are building an AI story generator that creates mystery stories by gradually revealing clues.\n",
        "\n",
        "Question:\n",
        "\n",
        "Create a ToT-based prompt that makes the AI:\n",
        "Set up a compelling mystery scenario\n",
        "Introduce characters and possible suspects step by step\n",
        "Reveal clues progressively, eliminating false leads\n",
        "Conclude with a logical and satisfying resolution\n",
        "\n",
        "\n",
        "#### **6. ReAct Prompting**  \n",
        "**Q:** Retrieve the real-time stock price of Apple Inc. (AAPL). Analyze its recent trend to determine whether the stock is rising or falling. Based on the trend, decide whether it is a good time to buy, sell, or hold\n"
      ]
    },
    {
      "cell_type": "markdown",
      "source": [
        "# **1)Zero Shot**"
      ],
      "metadata": {
        "id": "-iDxkblMNHhR"
      }
    },
    {
      "cell_type": "code",
      "source": [
        "def prompt_groq(prompt):\n",
        "    response = client.chat.completions.create(\n",
        "        model=\"llama3-8b-8192\",  # Choose your model\n",
        "        messages=[{\"role\": \"user\", \"content\": prompt}]\n",
        "    )\n",
        "    return response.choices[0].message.content"
      ],
      "metadata": {
        "id": "TwFq5a1HNHAF"
      },
      "execution_count": 32,
      "outputs": []
    },
    {
      "cell_type": "code",
      "source": [
        "zero_shot_prompt = \"Classify the sentiment of this sentence: 'The service at the restaurant was incredibly slow and disappointing.' as positive, negative, or neutral.\"  # You can try translating this to other languages too!\n",
        "zero_shot_result = model(zero_shot_prompt)\n",
        "print(\"Zero-Shot Result:\\n\", zero_shot_result)"
      ],
      "metadata": {
        "colab": {
          "base_uri": "https://localhost:8080/"
        },
        "id": "hUwmbS9DPYLd",
        "outputId": "25ad9220-c1a6-4ac0-bbb7-f211640c72b8"
      },
      "execution_count": 33,
      "outputs": [
        {
          "output_type": "stream",
          "name": "stdout",
          "text": [
            "Zero-Shot Result:\n",
            " I would classify the sentiment of this sentence as **Negative**. The words \"incredibly slow\" and \"disappointing\" convey a strong sense of dissatisfaction and unhappiness, which indicates a negative sentiment.\n"
          ]
        }
      ]
    },
    {
      "cell_type": "markdown",
      "source": [
        "# **2)few-shot**"
      ],
      "metadata": {
        "id": "Y_mR24lSP1Mu"
      }
    },
    {
      "cell_type": "code",
      "source": [
        "few_shot_prompt = \"\"\"\n",
        "Identify the language of this sentence: 'Das Wetter ist heute schön.'\n",
        "Examples:\n",
        "- 'Bonjour, comment ça va?' is French\n",
        "- 'Hola, ¿cómo estás?' is Spanish\n",
        "- 'Guten Tag, wie geht es Ihnen?' is German\n",
        "\"\"\"\n",
        "few_shot_result = prompt_groq(few_shot_prompt)\n",
        "print(\"\\nFew-Shot Result:\\n\", few_shot_result)\n"
      ],
      "metadata": {
        "colab": {
          "base_uri": "https://localhost:8080/"
        },
        "id": "q5qRbml-P7in",
        "outputId": "8a29bd7d-ef1a-482e-a846-42d2a4659d77"
      },
      "execution_count": 34,
      "outputs": [
        {
          "output_type": "stream",
          "name": "stdout",
          "text": [
            "\n",
            "Few-Shot Result:\n",
            " A nice sentence!\n",
            "\n",
            "The language of the sentence \"Das Wetter ist heute schön\" is German.\n",
            "\n",
            "Here's a breakdown:\n",
            "\n",
            "* \"Das\" is the definite article (the equivalent of \"the\" in English)\n",
            "* \"Wetter\" is the noun meaning \"weather\"\n",
            "* \"ist\" is the verb \"to be\" in the present tense (equivalent to \"is\" or \"are\")\n",
            "* \"heute\" is an adverb meaning \"today\"\n",
            "* \"schön\" is an adjective meaning \"beautiful\" or \"nice\"\n",
            "\n",
            "So, the sentence as a whole means \"The weather is nice today.\"\n"
          ]
        }
      ]
    },
    {
      "cell_type": "markdown",
      "source": [
        "# **Chain of Thought (CoT) Prompting**"
      ],
      "metadata": {
        "id": "e_1zijN3QA15"
      }
    },
    {
      "cell_type": "code",
      "source": [
        "cot_prompt = \"\"\"\n",
        "Solve the following math problem step by step:\n",
        "\n",
        "Question: A train travels at 60 km/h for 2 hours, then at 80 km/h for 3 hours.\n",
        "What is the total distance traveled? Show your calculations step by step.\n",
        "\"\"\"\n",
        "cot_result = prompt_groq(cot_prompt)\n",
        "print(\"\\nChain of Thought Result:\\n\", cot_result)\n"
      ],
      "metadata": {
        "colab": {
          "base_uri": "https://localhost:8080/"
        },
        "id": "TouhPOk_QGJd",
        "outputId": "51646dd1-3288-4d3e-8793-6dd3dc95763a"
      },
      "execution_count": 35,
      "outputs": [
        {
          "output_type": "stream",
          "name": "stdout",
          "text": [
            "\n",
            "Chain of Thought Result:\n",
            " Let's solve the problem step by step.\n",
            "\n",
            "Step 1: Find the distance traveled at 60 km/h for 2 hours.\n",
            "\n",
            "Distance = Speed x Time\n",
            "= 60 km/h x 2 hours\n",
            "= 120 km\n",
            "\n",
            "So, the train travels 120 km in 2 hours.\n",
            "\n",
            "Step 2: Find the distance traveled at 80 km/h for 3 hours.\n",
            "\n",
            "Distance = Speed x Time\n",
            "= 80 km/h x 3 hours\n",
            "= 240 km\n",
            "\n",
            "So, the train travels 240 km in 3 hours.\n",
            "\n",
            "Step 3: Add the distances traveled at both speeds to find the total distance traveled.\n",
            "\n",
            "Total distance = Distance traveled at 60 km/h + Distance traveled at 80 km/h\n",
            "= 120 km + 240 km\n",
            "= 360 km\n",
            "\n",
            "Therefore, the total distance traveled by the train is 360 km.\n"
          ]
        }
      ]
    },
    {
      "cell_type": "markdown",
      "source": [
        "# **Graph of Thought (GoT) Prompting**"
      ],
      "metadata": {
        "id": "5PFxZ8mUQNp5"
      }
    },
    {
      "cell_type": "code",
      "source": [
        "got_prompt = \"\"\"You are an AI debate assistant helping users form strong arguments on controversial topics.\n",
        "Consider multiple perspectives (economic, ethical, social, technological) before forming an answer.\n",
        "Example: 'Should AI replace human jobs?'\n",
        "- Economic: AI can reduce costs but may lead to job loss.\n",
        "- Ethical: Is it fair to replace humans?\n",
        "- Social: How will society adapt?\n",
        "- Technological: How advanced is AI currently?\n",
        "\n",
        "Now, analyze the topic holistically and provide a balanced argument.\"\"\"\n",
        "got_result = prompt_groq(got_prompt)\n",
        "print(\"Graph of Thoughts Result:\\n\", got_result)"
      ],
      "metadata": {
        "colab": {
          "base_uri": "https://localhost:8080/"
        },
        "id": "HF7LzcIbQPyz",
        "outputId": "1478187a-ae33-440c-9e05-246b623dca3a"
      },
      "execution_count": 36,
      "outputs": [
        {
          "output_type": "stream",
          "name": "stdout",
          "text": [
            "Graph of Thoughts Result:\n",
            " I'm excited to help! Let's dive into the topic of \"Should AI replace human jobs?\"\n",
            "\n",
            "**Economic Perspective:**\n",
            "AI can automate repetitive, mundane, and low-value tasks, potentially reducing labor costs and increasing efficiency. This could lead to cost savings for businesses, especially in industries where human labor is expensive. However, widespread job displacement could result in a loss of income and reduced economic activity.\n",
            "\n",
            "**Ethical Perspective:**\n",
            "Is it fair to replace humans with AI? Some argue that AI can provide unbiased and objective performance, reducing the likelihood of human error. Others contend that AI systems lack empathy and understanding, making it difficult for them to replicate the nuances of human interactions. Moreover, job replacement could lead to societal inequalities and a widening of the wealth gap.\n",
            "\n",
            "**Social Perspective:**\n",
            "The impact of AI replacing human jobs on society depends on how we adapt and respond. A well-planned transition could provide training programs, education, and social support to help workers develop new skills and adapt to new roles. On the other hand, a lack of preparation could lead to social unrest, economic instability, and a sense of disillusionment.\n",
            "\n",
            "**Technological Perspective:**\n",
            "Currently, AI systems are limited in scope and capability, although they are rapidly evolving. While AI can process vast amounts of data, recognize patterns, and perform tasks with speed and accuracy, it still lacks human creativity, judgment, and social intelligence.\n",
            "\n",
            "**Balanced Argument:**\n",
            "While AI has the potential to revolutionize industries and increase efficiency, it's crucial to adopt a balanced approach that considers the economic, ethical, social, and technological implications.\n",
            "\n",
            "**Recommendations:**\n",
            "\n",
            "1. **Upskilling and Reskilling:** Governments, educational institutions, and businesses should invest in programs that help workers develop new skills and adapt to changing job requirements.\n",
            "2. **Job Redefinition:** Focusing on tasks that require creativity, empathy, and human judgment can help mitigate job displacement. AI can assist humans in these roles, enhancing productivity and capacity.\n",
            "3. **Universal Basic Income:** Considering a Universal Basic Income (UBI) or progressive taxation to address income inequality and ensure everyone's basic needs are met, even in the face of job displacement.\n",
            "4. **Ethical AI Development:** Developing AI systems that are transparent, explainable, and responsible, with built-in ethical considerations, to ensure their integration with human societies is beneficial and sustainable.\n",
            "5. **Regulatory Frameworks:** Establishing regulatory frameworks to monitor AI development, deployment, and impact, ensuring they align with societal values and promote equitable outcomes.\n",
            "\n",
            "**Conclusion:**\n",
            "While AI has the potential to revolutionize industries, it's essential to acknowledge the potential risks and challenges associated with job replacement. By adopting a balanced approach that addresses economic, ethical, social, and technological aspects, we can harness the benefits of AI while minimizing its negative consequences. Ultimately, the success of AI adoption will depend on our ability to navigate these complexities and create a society that is equitable, just, and prosperous for all.\n"
          ]
        }
      ]
    },
    {
      "cell_type": "markdown",
      "source": [
        "# **Train of Thought (GoT) Prompting**"
      ],
      "metadata": {
        "id": "hfts260SQYNO"
      }
    },
    {
      "cell_type": "code",
      "source": [
        "tot_prompt = \"\"\"Create a compelling mystery story.\n",
        "1. Set up the mystery scenario.\n",
        "2. Introduce characters and possible suspects.\n",
        "3. Reveal clues progressively while eliminating false leads.\n",
        "4. Conclude with a logical and satisfying resolution.\"\"\"\n",
        "tot_result = prompt_groq(tot_prompt)\n",
        "print(\"Tree of Thoughts Result:\\n\", tot_result)"
      ],
      "metadata": {
        "colab": {
          "base_uri": "https://localhost:8080/"
        },
        "id": "RlrPBTlyQZzd",
        "outputId": "6443ae75-9381-4de4-b68e-09989fa2f595"
      },
      "execution_count": 37,
      "outputs": [
        {
          "output_type": "stream",
          "name": "stdout",
          "text": [
            "Tree of Thoughts Result:\n",
            " **Mystery Scenario:**\n",
            "\n",
            "It's a chilly winter evening in Ravenswood, a small coastal town in Maine. The local art gallery, \"The Whispering Walls,\" hosts a lavish opening reception for its latest exhibition, featuring the prestigious painter, Julian St. Clair. The evening promises to be a night to remember, with champagne, hors d'oeuvres, and the crème de la crème of Ravenswood's society in attendance.\n",
            "\n",
            "However, the evening takes a shocking turn when the gallery's curator, Emilia Grey, discovers Julian St. Clair's lifeless body slumped against a canvas, a palette knife lodged in his chest. The police are summoned, and the usually tranquil town of Ravenswood is thrust into a state of panic.\n",
            "\n",
            "**Introducing the Suspects:**\n",
            "\n",
            "1. **Marcel Dupont**: A rival artist who's been vocal about his disdain for St. Clair's work. He's been known to engage in heated debates with the painter, and his frequent visits to the gallery sparked rumors of a possible dispute.\n",
            "2. **Lily Bloom**: St. Clair's protégée and model. She's been struggling to make a name for herself in the art world and stood to gain a significant amount from her mentor's success. Her reputation has been tarnished by whispers of an alleged affair with St. Clair.\n",
            "3. **Reginald Winters**: A wealthy patron who's been investing heavily in St. Clair's work. He's been seen arguing with the painter over the direction of his art and stands to lose a substantial investment if St. Clair's reputation is ruined.\n",
            "4. **Emilia Grey**: The gallery's curator, who had a troubled past with St. Clair. She's been acting strangely throughout the evening, and some speculate that she might have had a motive to eliminate the painter.\n",
            "5. **James Reed**: A quiet, reserved art historian who's been studying St. Clair's oeuvre. He's been acting suspiciously, asking probing questions about St. Clair's personal life and artistic inspirations.\n",
            "\n",
            "**Clue Progression:**\n",
            "\n",
            "**First Clue:** A suspicious conversation between Marcel Dupont and Emilia Grey is overheard by a guest, who reports that they appeared to be arguing about something significant. Initial suspicions fall on Marcel, but further investigation reveals that he has an airtight alibi.\n",
            "\n",
            "**Second Clue:** Lily Bloom is discovered with a torn piece of fabric near the crime scene. The fabric matches a piece from St. Clair's latest painting, and it seems that Lily might have been at the scene of the crime. However, her alibi checks out, and it's revealed that the fabric was torn during a earlier altercation between Lily and Marcel.\n",
            "\n",
            "**Third Clue:** A security camera captures a glimpse of Reginald Winters entering the gallery around the time of the murder. He claims he was simply admiring the art, but further investigation reveals that he had a motive to eliminate St. Clair, as the painter had been refusing to create new work for him.\n",
            "\n",
            "**Fourth Clue:** A hidden safe in St. Clair's studio reveals a cryptic message, pointing to a potential suspect. The message reads: \"Look to the past for the key to the truth.\" James Reed, the art historian, is revealed to have been researching St. Clair's early work, which might hold the key to the mystery.\n",
            "\n",
            "**Conclusion:**\n",
            "\n",
            "Through a series of careful eliminations and intelligent deductions, the detectives piece together the events of the fateful evening. It becomes clear that Emilia Grey, the gallery's curator, was the mastermind behind the murder.\n",
            "\n",
            "Emilia, who had a troubled past with St. Clair, had been jealous of his success and resented him for rejecting her artistic ambitions. She had planned the murder to make it look like a crime of passion, using the hidden safe's message to mislead the detectives. The torn fabric, meant to implicate Lily, was planted at the scene to create a diversion. Reginald's appearance in the gallery was staged to shift suspicion away from Emilia.\n",
            "\n",
            "In a thrilling twist, the detectives discover that Emilia had been using her position at the gallery to orchestrate the murder, using her knowledge of St. Clair's schedule and habits to make it look like a crime of opportunity.\n",
            "\n",
            "The case is closed, and Emilia Grey is arrested for the murder of Julian St. Clair.\n"
          ]
        }
      ]
    },
    {
      "cell_type": "markdown",
      "source": [
        "# **ReAct (Reasoning + Acting)**"
      ],
      "metadata": {
        "id": "FSik0JBDQfj8"
      }
    },
    {
      "cell_type": "code",
      "source": [
        "!pip install yfinance==0.2.12"
      ],
      "metadata": {
        "colab": {
          "base_uri": "https://localhost:8080/"
        },
        "id": "7DYSddEIRkxs",
        "outputId": "1acb7811-acc7-4e09-a97c-d0bfd863fe33"
      },
      "execution_count": 40,
      "outputs": [
        {
          "output_type": "stream",
          "name": "stdout",
          "text": [
            "Collecting yfinance==0.2.12\n",
            "  Downloading yfinance-0.2.12-py2.py3-none-any.whl.metadata (12 kB)\n",
            "Requirement already satisfied: pandas>=1.3.0 in /usr/local/lib/python3.11/dist-packages (from yfinance==0.2.12) (2.2.2)\n",
            "Requirement already satisfied: numpy>=1.16.5 in /usr/local/lib/python3.11/dist-packages (from yfinance==0.2.12) (1.26.4)\n",
            "Requirement already satisfied: requests>=2.26 in /usr/local/lib/python3.11/dist-packages (from yfinance==0.2.12) (2.32.3)\n",
            "Requirement already satisfied: multitasking>=0.0.7 in /usr/local/lib/python3.11/dist-packages (from yfinance==0.2.12) (0.0.11)\n",
            "Requirement already satisfied: lxml>=4.9.1 in /usr/local/lib/python3.11/dist-packages (from yfinance==0.2.12) (5.3.0)\n",
            "Collecting appdirs>=1.4.4 (from yfinance==0.2.12)\n",
            "  Downloading appdirs-1.4.4-py2.py3-none-any.whl.metadata (9.0 kB)\n",
            "Requirement already satisfied: pytz>=2022.5 in /usr/local/lib/python3.11/dist-packages (from yfinance==0.2.12) (2025.1)\n",
            "Requirement already satisfied: frozendict>=2.3.4 in /usr/local/lib/python3.11/dist-packages (from yfinance==0.2.12) (2.4.6)\n",
            "Requirement already satisfied: cryptography>=3.3.2 in /usr/local/lib/python3.11/dist-packages (from yfinance==0.2.12) (43.0.3)\n",
            "Requirement already satisfied: beautifulsoup4>=4.11.1 in /usr/local/lib/python3.11/dist-packages (from yfinance==0.2.12) (4.13.3)\n",
            "Requirement already satisfied: html5lib>=1.1 in /usr/local/lib/python3.11/dist-packages (from yfinance==0.2.12) (1.1)\n",
            "Requirement already satisfied: soupsieve>1.2 in /usr/local/lib/python3.11/dist-packages (from beautifulsoup4>=4.11.1->yfinance==0.2.12) (2.6)\n",
            "Requirement already satisfied: typing-extensions>=4.0.0 in /usr/local/lib/python3.11/dist-packages (from beautifulsoup4>=4.11.1->yfinance==0.2.12) (4.12.2)\n",
            "Requirement already satisfied: cffi>=1.12 in /usr/local/lib/python3.11/dist-packages (from cryptography>=3.3.2->yfinance==0.2.12) (1.17.1)\n",
            "Requirement already satisfied: six>=1.9 in /usr/local/lib/python3.11/dist-packages (from html5lib>=1.1->yfinance==0.2.12) (1.17.0)\n",
            "Requirement already satisfied: webencodings in /usr/local/lib/python3.11/dist-packages (from html5lib>=1.1->yfinance==0.2.12) (0.5.1)\n",
            "Requirement already satisfied: python-dateutil>=2.8.2 in /usr/local/lib/python3.11/dist-packages (from pandas>=1.3.0->yfinance==0.2.12) (2.8.2)\n",
            "Requirement already satisfied: tzdata>=2022.7 in /usr/local/lib/python3.11/dist-packages (from pandas>=1.3.0->yfinance==0.2.12) (2025.1)\n",
            "Requirement already satisfied: charset-normalizer<4,>=2 in /usr/local/lib/python3.11/dist-packages (from requests>=2.26->yfinance==0.2.12) (3.4.1)\n",
            "Requirement already satisfied: idna<4,>=2.5 in /usr/local/lib/python3.11/dist-packages (from requests>=2.26->yfinance==0.2.12) (3.10)\n",
            "Requirement already satisfied: urllib3<3,>=1.21.1 in /usr/local/lib/python3.11/dist-packages (from requests>=2.26->yfinance==0.2.12) (2.3.0)\n",
            "Requirement already satisfied: certifi>=2017.4.17 in /usr/local/lib/python3.11/dist-packages (from requests>=2.26->yfinance==0.2.12) (2025.1.31)\n",
            "Requirement already satisfied: pycparser in /usr/local/lib/python3.11/dist-packages (from cffi>=1.12->cryptography>=3.3.2->yfinance==0.2.12) (2.22)\n",
            "Downloading yfinance-0.2.12-py2.py3-none-any.whl (59 kB)\n",
            "\u001b[2K   \u001b[90m━━━━━━━━━━━━━━━━━━━━━━━━━━━━━━━━━━━━━━━━\u001b[0m \u001b[32m59.2/59.2 kB\u001b[0m \u001b[31m5.2 MB/s\u001b[0m eta \u001b[36m0:00:00\u001b[0m\n",
            "\u001b[?25hDownloading appdirs-1.4.4-py2.py3-none-any.whl (9.6 kB)\n",
            "Installing collected packages: appdirs, yfinance\n",
            "  Attempting uninstall: yfinance\n",
            "    Found existing installation: yfinance 0.2.52\n",
            "    Uninstalling yfinance-0.2.52:\n",
            "      Successfully uninstalled yfinance-0.2.52\n",
            "Successfully installed appdirs-1.4.4 yfinance-0.2.12\n"
          ]
        }
      ]
    },
    {
      "cell_type": "code",
      "source": [
        "import yfinance as yf\n",
        "\n",
        "# Fetch real-time stock price of Apple Inc. (AAPL)\n",
        "stock = yf.Ticker(\"AAPL\")\n",
        "stock_price = stock.history(period=\"1d\")[\"Close\"][-1]  # Get last closing price)\n",
        "\n",
        "def react(query: str) -> str:\n",
        "    prompt = f\"\"\"\n",
        "The current stock price of Apple Inc. (AAPL) is {stock_price}.\n",
        "analyze its price trend over the past 7 days. Consider technical indicators (e.g., moving averages, RSI, volume trends),\n",
        "fundamental factors (e.g., earnings reports, industry trends), and market sentiment (e.g., recent news, analyst ratings).\n",
        "Then, synthesize your findings into a well-reasoned investment strategy. Clearly state whether investors should buy, sell,\n",
        "or hold the stock and provide data-driven reasoning to support your conclusion.\n",
        "\"\"\"\n",
        "    response = client.chat.completions.create(\n",
        "        messages=[{\"role\": \"user\", \"content\": prompt}],\n",
        "        model=\"llama3-70b-8192\",\n",
        "        temperature=0.8,\n",
        "        max_tokens=800\n",
        "    )\n",
        "    return response.choices[0].message.content\n",
        "\n",
        "# Test\n",
        "print(react(\" Retrieve the real-time stock price of Apple Inc. (AAPL)\"))"
      ],
      "metadata": {
        "colab": {
          "base_uri": "https://localhost:8080/"
        },
        "id": "l_BJyFs9QkPY",
        "outputId": "5196f87c-be32-4f4e-ea12-9c85c67882d0"
      },
      "execution_count": 44,
      "outputs": [
        {
          "output_type": "stream",
          "name": "stderr",
          "text": [
            "/usr/local/lib/python3.11/dist-packages/yfinance/utils.py:681: FutureWarning: The 'unit' keyword in TimedeltaIndex construction is deprecated and will be removed in a future version. Use pd.to_timedelta instead.\n",
            "  df.index += _pd.TimedeltaIndex(dst_error_hours, 'h')\n",
            "<ipython-input-44-c5a5d79121c1>:5: FutureWarning: Series.__getitem__ treating keys as positions is deprecated. In a future version, integer keys will always be treated as labels (consistent with DataFrame behavior). To access a value by position, use `ser.iloc[pos]`\n",
            "  stock_price = stock.history(period=\"1d\")[\"Close\"][-1]  # Get last closing price)\n"
          ]
        },
        {
          "output_type": "stream",
          "name": "stdout",
          "text": [
            "Based on the available data, I'll analyze Apple Inc.'s (AAPL) price trend over the past 7 days, considering technical indicators, fundamental factors, and market sentiment.\n",
            "\n",
            "**Technical Indicators:**\n",
            "\n",
            "1. **Moving Averages:**\n",
            "\t* 7-day Simple Moving Average (SMA): 238.11\n",
            "\t* 14-day SMA: 236.19\n",
            "\t* 50-day SMA: 232.15\n",
            "AAPL's current price is above its short-term and medium-term moving averages, indicating a bullish trend.\n",
            "2. **Relative Strength Index (RSI):**\n",
            "\t* 7-day RSI: 64.15\n",
            "AAPL's RSI is above 50, indicating a strong upward momentum, but not yet in overbought territory (>70).\n",
            "3. **Volume Trends:**\n",
            "\t* Average daily volume over the past 7 days: 34.14 million shares\n",
            "\t* Volume has been increasing over the past 3 days, indicating buying interest.\n",
            "\n",
            "**Fundamental Factors:**\n",
            "\n",
            "1. **Earnings Reports:**\n",
            "\t* Apple's Q2 2022 earnings report (released on April 28, 2022) exceeded expectations, with a 9% year-over-year increase in revenue.\n",
            "2. **Industry Trends:**\n",
            "\t* The technology sector has been performing well, driven by the ongoing digital transformation and demand for cloud services.\n",
            "\n",
            "**Market Sentiment:**\n",
            "\n",
            "1. **Recent News:**\n",
            "\t* Apple has been investing in artificial intelligence, autonomous vehicles, and other emerging technologies, which could drive future growth.\n",
            "2. **Analyst Ratings:**\n",
            "\t* The average analyst rating is \"Buy\" or \"Outperform,\" with a target price range of $250-$300.\n",
            "\n",
            "**Synthesis and Investment Strategy:**\n",
            "\n",
            "Based on the analysis, I recommend a **BUY** strategy for Apple Inc. (AAPL) at its current price of 241.52999877929688. Here's why:\n",
            "\n",
            "1. **Technical indicators** suggest a bullish trend, with the stock trading above its short-term and medium-term moving averages.\n",
            "2. **Fundamental factors** support the stock's growth, driven by strong earnings and a favorable industry trend.\n",
            "3. **Market sentiment** is positive, with analysts expecting further upside and the company investing in emerging technologies.\n",
            "\n",
            "Data-driven reasoning to support this conclusion:\n",
            "\n",
            "* The stock's 7-day RSI indicates a strong upward momentum, but not yet in overbought territory, suggesting room for further growth.\n",
            "* The average daily volume has been increasing over the past 3 days, indicating buying interest and supporting the bullish trend.\n",
            "* Apple's Q2 2022 earnings report exceeded expectations, and the company's investments in emerging technologies could drive future growth.\n",
            "\n",
            "**Stop-loss and target price:**\n",
            "\n",
            "* Set a stop-loss at 235 (around 2.5% below the current price) to limit potential losses.\n",
            "* Target a price range of 250-260, based on the average analyst target price and the stock's historical performance.\n",
            "\n",
            "Please note that this analysis is based on a snapshot of data and is subject to change as new information becomes available. It's essential to continuously monitor the stock's performance and adjust the investment strategy accordingly.\n"
          ]
        }
      ]
    }
  ],
  "metadata": {
    "colab": {
      "provenance": []
    },
    "kernelspec": {
      "display_name": "Python 3 (ipykernel)",
      "language": "python",
      "name": "python3"
    },
    "language_info": {
      "codemirror_mode": {
        "name": "ipython",
        "version": 3
      },
      "file_extension": ".py",
      "mimetype": "text/x-python",
      "name": "python",
      "nbconvert_exporter": "python",
      "pygments_lexer": "ipython3",
      "version": "3.9.12"
    }
  },
  "nbformat": 4,
  "nbformat_minor": 0
}
