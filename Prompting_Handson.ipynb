{
 "cells": [
  {
   "cell_type": "markdown",
   "metadata": {
    "id": "v_6gH6K81Brr"
   },
   "source": [
    "## Prompting Handson: Zero Shot, Few Shot, Chain of Thought and ReAct"
   ]
  },
  {
   "cell_type": "markdown",
   "metadata": {
    "id": "fM5N9Dyi0-ZQ"
   },
   "source": [
    "\n",
    "## 1. Setup\n",
    "Install and import necessary libraries.\n",
    "\n"
   ]
  },
  {
   "cell_type": "code",
   "execution_count": 5,
   "metadata": {
    "colab": {
     "base_uri": "https://localhost:8080/"
    },
    "id": "QhDyFKrDzx-Y",
    "outputId": "c4e4e40c-ad9d-4ac1-958d-d5e60b6c7054"
   },
   "outputs": [
    {
     "name": "stdout",
     "output_type": "stream",
     "text": [
      "Defaulting to user installation because normal site-packages is not writeable\n",
      "Requirement already satisfied: groq in c:\\users\\shahe\\appdata\\local\\packages\\pythonsoftwarefoundation.python.3.12_qbz5n2kfra8p0\\localcache\\local-packages\\python312\\site-packages (0.18.0)\n",
      "Requirement already satisfied: python-dotenv in c:\\users\\shahe\\appdata\\local\\packages\\pythonsoftwarefoundation.python.3.12_qbz5n2kfra8p0\\localcache\\local-packages\\python312\\site-packages (1.0.1)\n",
      "Requirement already satisfied: anyio<5,>=3.5.0 in c:\\users\\shahe\\appdata\\local\\packages\\pythonsoftwarefoundation.python.3.12_qbz5n2kfra8p0\\localcache\\local-packages\\python312\\site-packages (from groq) (4.8.0)\n",
      "Requirement already satisfied: distro<2,>=1.7.0 in c:\\users\\shahe\\appdata\\local\\packages\\pythonsoftwarefoundation.python.3.12_qbz5n2kfra8p0\\localcache\\local-packages\\python312\\site-packages (from groq) (1.9.0)\n",
      "Requirement already satisfied: httpx<1,>=0.23.0 in c:\\users\\shahe\\appdata\\local\\packages\\pythonsoftwarefoundation.python.3.12_qbz5n2kfra8p0\\localcache\\local-packages\\python312\\site-packages (from groq) (0.28.1)\n",
      "Requirement already satisfied: pydantic<3,>=1.9.0 in c:\\users\\shahe\\appdata\\local\\packages\\pythonsoftwarefoundation.python.3.12_qbz5n2kfra8p0\\localcache\\local-packages\\python312\\site-packages (from groq) (2.10.6)\n",
      "Requirement already satisfied: sniffio in c:\\users\\shahe\\appdata\\local\\packages\\pythonsoftwarefoundation.python.3.12_qbz5n2kfra8p0\\localcache\\local-packages\\python312\\site-packages (from groq) (1.3.1)\n",
      "Requirement already satisfied: typing-extensions<5,>=4.10 in c:\\users\\shahe\\appdata\\local\\packages\\pythonsoftwarefoundation.python.3.12_qbz5n2kfra8p0\\localcache\\local-packages\\python312\\site-packages (from groq) (4.12.2)\n",
      "Requirement already satisfied: idna>=2.8 in c:\\users\\shahe\\appdata\\local\\packages\\pythonsoftwarefoundation.python.3.12_qbz5n2kfra8p0\\localcache\\local-packages\\python312\\site-packages (from anyio<5,>=3.5.0->groq) (3.10)\n",
      "Requirement already satisfied: certifi in c:\\users\\shahe\\appdata\\local\\packages\\pythonsoftwarefoundation.python.3.12_qbz5n2kfra8p0\\localcache\\local-packages\\python312\\site-packages (from httpx<1,>=0.23.0->groq) (2025.1.31)\n",
      "Requirement already satisfied: httpcore==1.* in c:\\users\\shahe\\appdata\\local\\packages\\pythonsoftwarefoundation.python.3.12_qbz5n2kfra8p0\\localcache\\local-packages\\python312\\site-packages (from httpx<1,>=0.23.0->groq) (1.0.7)\n",
      "Requirement already satisfied: h11<0.15,>=0.13 in c:\\users\\shahe\\appdata\\local\\packages\\pythonsoftwarefoundation.python.3.12_qbz5n2kfra8p0\\localcache\\local-packages\\python312\\site-packages (from httpcore==1.*->httpx<1,>=0.23.0->groq) (0.14.0)\n",
      "Requirement already satisfied: annotated-types>=0.6.0 in c:\\users\\shahe\\appdata\\local\\packages\\pythonsoftwarefoundation.python.3.12_qbz5n2kfra8p0\\localcache\\local-packages\\python312\\site-packages (from pydantic<3,>=1.9.0->groq) (0.7.0)\n",
      "Requirement already satisfied: pydantic-core==2.27.2 in c:\\users\\shahe\\appdata\\local\\packages\\pythonsoftwarefoundation.python.3.12_qbz5n2kfra8p0\\localcache\\local-packages\\python312\\site-packages (from pydantic<3,>=1.9.0->groq) (2.27.2)\n"
     ]
    },
    {
     "name": "stderr",
     "output_type": "stream",
     "text": [
      "\n",
      "[notice] A new release of pip is available: 24.3.1 -> 25.0\n",
      "[notice] To update, run: C:\\Users\\shahe\\AppData\\Local\\Microsoft\\WindowsApps\\PythonSoftwareFoundation.Python.3.12_qbz5n2kfra8p0\\python.exe -m pip install --upgrade pip\n"
     ]
    },
    {
     "ename": "ModuleNotFoundError",
     "evalue": "No module named 'groq'",
     "output_type": "error",
     "traceback": [
      "\u001b[1;31m---------------------------------------------------------------------------\u001b[0m",
      "\u001b[1;31mModuleNotFoundError\u001b[0m                       Traceback (most recent call last)",
      "Cell \u001b[1;32mIn[5], line 4\u001b[0m\n\u001b[0;32m      1\u001b[0m get_ipython()\u001b[38;5;241m.\u001b[39msystem(\u001b[38;5;124m'\u001b[39m\u001b[38;5;124mpip install groq python-dotenv\u001b[39m\u001b[38;5;124m'\u001b[39m)\n\u001b[0;32m      3\u001b[0m \u001b[38;5;28;01mimport\u001b[39;00m\u001b[38;5;250m \u001b[39m\u001b[38;5;21;01mos\u001b[39;00m\n\u001b[1;32m----> 4\u001b[0m \u001b[38;5;28;01mfrom\u001b[39;00m\u001b[38;5;250m \u001b[39m\u001b[38;5;21;01mgroq\u001b[39;00m\u001b[38;5;250m \u001b[39m\u001b[38;5;28;01mimport\u001b[39;00m Groq\n\u001b[0;32m      6\u001b[0m client \u001b[38;5;241m=\u001b[39m Groq(api_key\u001b[38;5;241m=\u001b[39m\u001b[38;5;124m\"\u001b[39m\u001b[38;5;124mlsv2_pt_e4edf008dc51486ca5afe80ca546cf44_3f9976cffa\u001b[39m\u001b[38;5;124m\"\u001b[39m)\n",
      "\u001b[1;31mModuleNotFoundError\u001b[0m: No module named 'groq'"
     ]
    }
   ],
   "source": [
    "!pip install groq python-dotenv\n",
    "\n",
    "import os\n",
    "from groq import Groq\n",
    "\n",
    "client = Groq(api_key=\"GROQ_API\")"
   ]
  },
  {
   "cell_type": "markdown",
   "metadata": {
    "id": "UMKEz6Wj3AS8"
   },
   "source": [
    "# 2. Zero Shot and Few Shot\n",
    "\n",
    "What's a shot 😶?\n",
    "\n",
    "In machine learning, specifically in Few-shot and Zero-shot learning, a **\"shot\" refers to an example provided to the model to help it understand the task.**"
   ]
  },
  {
   "cell_type": "markdown",
   "metadata": {
    "id": "mlwQ4-6-3JMV"
   },
   "source": [
    "# Let's look at an analogy:\n",
    "Imagine you're teaching someone how to drive a car.\n",
    "\n",
    "# **Zero-Shot Prompting (No Examples Given)**\n",
    "\n",
    "  💡 Scenario: You hand the car keys to a person who has never driven before and say:\n",
    "  \"Drive to the grocery store.\"\n",
    "\n",
    "  🔍 What happens?\n",
    "\n",
    "  If they’ve never driven before, they’ll struggle.\n",
    "  If they’ve seen others drive, they might guess how to do it, but mistakes are likely.\n",
    "\n",
    "  💡 AI Equivalent:\n",
    "\n",
    "  The model is asked to generate an answer without any examples.\n",
    "  It relies on what it has already learned during training.\n",
    "\n",
    "# **Few-Shot Prompting (Providing Examples Before Asking)**\n",
    "\n",
    "  💡 Scenario: Before giving them the keys, you drive them to the grocery store a few times and explain each step:\n",
    "  \"First, start the car. Then, press the gas slowly. Stop at red lights…\"\n",
    "\n",
    "  🔍 What happens?\n",
    "\n",
    "  They learn by observing and following patterns.\n",
    "  When asked to drive, they can replicate the process more accurately.\n",
    "\n",
    "  💡 AI Equivalent:\n",
    "\n",
    "  The model is given a few examples before being asked to generate a response.\n",
    "  It understands the pattern and performs better than in zero-shot prompting.\n",
    "\n"
   ]
  },
  {
   "cell_type": "markdown",
   "metadata": {
    "id": "UStEiMXB4Moo"
   },
   "source": [
    "**SUMMARY**\n",
    " ### Zero-Shot Learning\n",
    "- Model solves task without any examples\n",
    "\n",
    "- Relies entirely on pre-trained knowledge\n",
    "\n",
    "- Example: \"Classify this text as positive or negative: {text}\"\n",
    "\n",
    "### Few-Shot Learning\n",
    "- Model is given 2-5 examples before the target task\n",
    "\n",
    "- Helps establish pattern/format\n",
    "\n",
    "- Example: \"Apple -> fruit, Carrot -> vegetable, Potato -> ?\"\n"
   ]
  },
  {
   "cell_type": "code",
   "execution_count": 6,
   "metadata": {
    "id": "cSSZHWIu4qH-"
   },
   "outputs": [],
   "source": [
    "def prompt_groq(prompt):\n",
    "    response = client.chat.completions.create(\n",
    "        model=\"llama3-8b-8192\",  # Choose your model\n",
    "        messages=[{\"role\": \"user\", \"content\": prompt}]\n",
    "    )\n",
    "    return response.choices[0].message.content"
   ]
  },
  {
   "cell_type": "markdown",
   "metadata": {
    "id": "h2k6QHpp4u-7"
   },
   "source": [
    "## 1. **Zero-Shot Prompting Example**"
   ]
  },
  {
   "cell_type": "code",
   "execution_count": 7,
   "metadata": {
    "colab": {
     "base_uri": "https://localhost:8080/"
    },
    "id": "eiDOhOcp4_0A",
    "outputId": "fa73e948-e40b-41fb-c27d-54c0da6b623a"
   },
   "outputs": [
    {
     "ename": "NameError",
     "evalue": "name 'client' is not defined",
     "output_type": "error",
     "traceback": [
      "\u001b[1;31m---------------------------------------------------------------------------\u001b[0m",
      "\u001b[1;31mNameError\u001b[0m                                 Traceback (most recent call last)",
      "Cell \u001b[1;32mIn[7], line 2\u001b[0m\n\u001b[0;32m      1\u001b[0m zero_shot_prompt \u001b[38;5;241m=\u001b[39m \u001b[38;5;124m\"\u001b[39m\u001b[38;5;124mTranslate the sentence \u001b[39m\u001b[38;5;124m'\u001b[39m\u001b[38;5;124mBonjour, comment ça va?\u001b[39m\u001b[38;5;124m'\u001b[39m\u001b[38;5;124m into English.\u001b[39m\u001b[38;5;124m\"\u001b[39m  \u001b[38;5;66;03m# You can try translating this to other languages too!\u001b[39;00m\n\u001b[1;32m----> 2\u001b[0m zero_shot_result \u001b[38;5;241m=\u001b[39m \u001b[43mprompt_groq\u001b[49m\u001b[43m(\u001b[49m\u001b[43mzero_shot_prompt\u001b[49m\u001b[43m)\u001b[49m\n\u001b[0;32m      3\u001b[0m \u001b[38;5;28mprint\u001b[39m(\u001b[38;5;124m\"\u001b[39m\u001b[38;5;124mZero-Shot Result:\u001b[39m\u001b[38;5;130;01m\\n\u001b[39;00m\u001b[38;5;124m\"\u001b[39m, zero_shot_result)\n",
      "Cell \u001b[1;32mIn[6], line 2\u001b[0m, in \u001b[0;36mprompt_groq\u001b[1;34m(prompt)\u001b[0m\n\u001b[0;32m      1\u001b[0m \u001b[38;5;28;01mdef\u001b[39;00m\u001b[38;5;250m \u001b[39m\u001b[38;5;21mprompt_groq\u001b[39m(prompt):\n\u001b[1;32m----> 2\u001b[0m     response \u001b[38;5;241m=\u001b[39m \u001b[43mclient\u001b[49m\u001b[38;5;241m.\u001b[39mchat\u001b[38;5;241m.\u001b[39mcompletions\u001b[38;5;241m.\u001b[39mcreate(\n\u001b[0;32m      3\u001b[0m         model\u001b[38;5;241m=\u001b[39m\u001b[38;5;124m\"\u001b[39m\u001b[38;5;124mllama3-8b-8192\u001b[39m\u001b[38;5;124m\"\u001b[39m,  \u001b[38;5;66;03m# Choose your model\u001b[39;00m\n\u001b[0;32m      4\u001b[0m         messages\u001b[38;5;241m=\u001b[39m[{\u001b[38;5;124m\"\u001b[39m\u001b[38;5;124mrole\u001b[39m\u001b[38;5;124m\"\u001b[39m: \u001b[38;5;124m\"\u001b[39m\u001b[38;5;124muser\u001b[39m\u001b[38;5;124m\"\u001b[39m, \u001b[38;5;124m\"\u001b[39m\u001b[38;5;124mcontent\u001b[39m\u001b[38;5;124m\"\u001b[39m: prompt}]\n\u001b[0;32m      5\u001b[0m     )\n\u001b[0;32m      6\u001b[0m     \u001b[38;5;28;01mreturn\u001b[39;00m response\u001b[38;5;241m.\u001b[39mchoices[\u001b[38;5;241m0\u001b[39m]\u001b[38;5;241m.\u001b[39mmessage\u001b[38;5;241m.\u001b[39mcontent\n",
      "\u001b[1;31mNameError\u001b[0m: name 'client' is not defined"
     ]
    }
   ],
   "source": [
    "zero_shot_prompt = \"Translate the sentence 'Bonjour, comment ça va?' into English.\"  # You can try translating this to other languages too!\n",
    "zero_shot_result = prompt_groq(zero_shot_prompt)\n",
    "print(\"Zero-Shot Result:\\n\", zero_shot_result)"
   ]
  },
  {
   "cell_type": "code",
   "execution_count": null,
   "metadata": {
    "colab": {
     "base_uri": "https://localhost:8080/"
    },
    "id": "63Un8y9VAyXZ",
    "outputId": "a857d353-86fe-44ad-a0ae-15b7ab50336a"
   },
   "outputs": [
    {
     "name": "stdout",
     "output_type": "stream",
     "text": [
      "Zero-Shot Result:\n",
      " This sentence is definitely positive! The use of the word \"absolutely\" to emphasize the verb \"love\" and the expression of enthusiasm (\"I love\") clearly convey a strong positive sentiment towards the new phone.\n"
     ]
    }
   ],
   "source": [
    "zero_shot_prompt2=\" Classify if this sentence is positive, negative or neutral 'I absolutely love this new phone!' \"\n",
    "zero_shot_result2 = prompt_groq(zero_shot_prompt2)\n",
    "print(\"Zero-Shot Result:\\n\", zero_shot_result2)"
   ]
  },
  {
   "cell_type": "markdown",
   "metadata": {
    "id": "b1LNUuKtBMMx"
   },
   "source": [
    "## 2. **Few-Shot Prompting Example**"
   ]
  },
  {
   "cell_type": "code",
   "execution_count": null,
   "metadata": {
    "colab": {
     "base_uri": "https://localhost:8080/"
    },
    "id": "ywTfkB8M0jZP",
    "outputId": "51badf62-7ca1-4c99-8f48-f6d96d52c247"
   },
   "outputs": [
    {
     "name": "stdout",
     "output_type": "stream",
     "text": [
      "\n",
      "Few-Shot Result:\n",
      " English: \"I am a student.\"\n",
      "\n",
      "(Note: \"étudiant\" typically means \"student\" in a general sense, but it can also be used to refer specifically to a university student, so the translation could also be \"I am a university student\" depending on the context.)\n"
     ]
    }
   ],
   "source": [
    "few_shot_prompt = \"\"\"\n",
    "Translate the following French sentences to English:\n",
    "French: \"Bonjour, comment ça va?\"\n",
    "English: \"Hello, how are you?\"\n",
    "\n",
    "French: \"Merci beaucoup!\"\n",
    "English: \"Thank you very much!\"\n",
    "\n",
    "French: \"Je suis étudiant.\"\n",
    "English:\n",
    "\"\"\"\n",
    "few_shot_result = prompt_groq(few_shot_prompt)\n",
    "print(\"\\nFew-Shot Result:\\n\", few_shot_result)\n"
   ]
  },
  {
   "cell_type": "markdown",
   "metadata": {
    "id": "rhhvuA_KBlbz"
   },
   "source": [
    "#  3. Chain of Thought (CoT)\n",
    "\n",
    "What is Chain of Thought?\n",
    "\n",
    "Chain of Thought (CoT) is a prompting technique where the model is guided to solve a problem step-by-step, mimicking human reasoning. It is particularly useful for complex tasks like arithmetic, logic, and planning.\n",
    "\n",
    "**Summary:**\n",
    "\n",
    "### Chain-of-Thought (CoT)\n",
    "- Explicit step-by-step reasoning demonstration\n",
    "\n",
    "- Combines few-shot with reasoning steps\n",
    "\n",
    "- Especially useful for complex problems\n",
    "\n",
    "\n",
    "\n",
    "\n",
    "\n",
    "Example: Solving a Math Problem"
   ]
  },
  {
   "cell_type": "code",
   "execution_count": null,
   "metadata": {
    "colab": {
     "base_uri": "https://localhost:8080/"
    },
    "id": "M6iPIofPBVNY",
    "outputId": "36517f4d-10ea-406a-9f45-8890743a7998"
   },
   "outputs": [
    {
     "name": "stdout",
     "output_type": "stream",
     "text": [
      "\n",
      "Chain of Thought Result:\n",
      " Let's solve the problem step by step:\n",
      "\n",
      "Step 1: John starts with 3 apples.\n",
      "\n",
      "Step 2: He buys 5 more apples. Now he has 3 + 5 = 8 apples.\n",
      "\n",
      "Step 3: He gives 2 apples to his friend. Now he has 8 - 2 = 6 apples.\n",
      "\n",
      "So, John has 6 apples now.\n"
     ]
    }
   ],
   "source": [
    "cot_prompt = \"\"\"\n",
    "Solve the following math problem step by step:\n",
    "\n",
    "Question: John has 3 apples. He buys 5 more apples and gives 2 to his friend. How many apples does he have now?\n",
    "\n",
    "Step 1: John starts with 3 apples.\n",
    "Step 2: He buys 5 more apples. Now he has 3 + 5 = 8 apples.\n",
    "Step 3: He gives 2 apples to his friend. Now he has\n",
    "\"\"\"\n",
    "cot_result = prompt_groq(cot_prompt)\n",
    "print(\"\\nChain of Thought Result:\\n\", cot_result)\n"
   ]
  },
  {
   "cell_type": "markdown",
   "metadata": {
    "id": "0_ptfAtv4TiC"
   },
   "source": [
    "##4. Graph-of-Thought\n",
    "\n",
    "Graph of Thoughts (GoT) is a reasoning framework where multiple solution paths are explored simultaneously and compared before reaching a final decision. Unlike linear approaches (like CoT), GoT enables a model to analyze multiple aspects of a problem in parallel and dynamically connect different ideas to form an optimized solution.\n",
    "\n",
    "Example:\n",
    "A model evaluating different investment strategies based on factors like risk, return, and market trends, allowing it to assess multiple possibilities before recommending the best approach."
   ]
  },
  {
   "cell_type": "code",
   "execution_count": null,
   "metadata": {
    "colab": {
     "base_uri": "https://localhost:8080/"
    },
    "id": "0pqH1hFbv1wK",
    "outputId": "8551bbd0-865c-469d-97ed-fe043e9cbabf"
   },
   "outputs": [
    {
     "name": "stdout",
     "output_type": "stream",
     "text": [
      "Graph of Thoughts Result:\n",
      " Let's evaluate each destination based on the three factors: Budget, Weather, and Cultural Experiences.\n",
      "\n",
      "**Japan**\n",
      "\n",
      "* Budget: Japan is generally considered to be a relatively expensive country to visit, with high prices for accommodations, food, and transportation. Budget-conscious travelers may want to consider booking in advance or looking for affordable options outside of major cities. (Score: 6/10)\n",
      "* Weather: Japan has a distinct seasonal climate, with mild winters and hot, humid summers. Spring (March-May) and autumn (September-November) are generally the best times to visit, with comfortable temperatures and scenic views. (Score: 8/10)\n",
      "* Cultural Experiences: Japan is renowned for its rich cultural heritage, with a plethora of temples, shrines, and gardens to explore. Visitors can experience traditional tea ceremonies, visit bustling markets, or relax in an onsen (hot spring). (Score: 9/10)\n",
      "\n",
      "**Italy**\n",
      "\n",
      "* Budget: Italy is generally more budget-friendly than Japan, with a range of accommodation options and affordable food. However, popular destinations like Rome and Florence can still be quite expensive. (Score: 7/10)\n",
      "* Weather: Italy has a Mediterranean climate, with warm summers and mild winters. The best time to visit is spring (April-June) or autumn (September-October), when the weather is pleasant and there are fewer tourists. (Score: 9/10)\n",
      "* Cultural Experiences: Italy is steeped in history and culture, with iconic landmarks like the Colosseum, Pantheon, and Uffizi Gallery. Visitors can explore vibrant cities, visit charming hilltop towns, or enjoy a pasta-making class. (Score: 9/10)\n",
      "\n",
      "**Australia**\n",
      "\n",
      "* Budget: Australia is generally more expensive than Italy, with high prices for accommodations, food, and activities. However, there are plenty of affordable options for backpackers and budget-conscious travelers. (Score: 5/10)\n",
      "* Weather: Australia has a diverse climate, ranging from tropical north to temperate south. The best time to visit depends on the region, but generally, the dry season (April-October) is the best time to explore the Outback or beaches. (Score: 7/10)\n",
      "* Cultural Experiences: Australia has a unique cultural identity, with a blend of Indigenous, British, and Asian influences. Visitors can explore vibrant cities, visit world-class museums, or experience the famous Sydney Opera House. (Score: 8/10)\n",
      "\n",
      "Now, let's analyze each option and make a decision:\n",
      "\n",
      "Based on the scores, Italy appears to be the top choice, with high marks for both Budget and Cultural Experiences. Japan is a close second, with exceptional Cultural Experiences and a unique weather pattern. Australia, while having its own unique charm, falls short on Budget and Weather.\n",
      "\n",
      "However, considering the overall scores and taking into account personal preferences, I would choose Japan as my destination. While Japan is more expensive, the cultural experiences and unique weather pattern make it an unforgettable destination. Additionally, Japan offers a range of affordable options, such as budget-friendly accommodations and local food, making it more accessible than initially thought.\n",
      "\n",
      "With two weeks, I would consider visiting Japan, Italy, and Australia, as each destination has its unique charm and experiences to offer. For a one-week vacation, Italy would be a great choice, but Japan's unique blend of culture, history, and natural landscapes makes it the most exciting and fulfilling option for me.\n"
     ]
    }
   ],
   "source": [
    "got_prompt = \"\"\"You are planning a one-week vacation and need to decide between visiting Japan, Italy, or Australia.\n",
    "Evaluate each destination based on three factors:\n",
    "- Budget\n",
    "- Weather\n",
    "- Cultural experiences.\n",
    "Analyze all options in parallel and justify your final choice.\"\"\"\n",
    "got_result = prompt_groq(got_prompt)\n",
    "print(\"Graph of Thoughts Result:\\n\", got_result)"
   ]
  },
  {
   "cell_type": "markdown",
   "metadata": {
    "id": "Xq0w8DDK3_vc"
   },
   "source": [
    "##5. Tree-of-Thought\n",
    "Tree of Thoughts (ToT) is a structured problem-solving approach where a model breaks a task into hierarchical steps, evaluates possible solutions at each level, and chooses the most optimal path. Unlike GoT, which considers multiple ideas in parallel, ToT follows a decision tree format, where each step influences the next.\n",
    "\n"
   ]
  },
  {
   "cell_type": "code",
   "execution_count": null,
   "metadata": {
    "colab": {
     "base_uri": "https://localhost:8080/"
    },
    "id": "fVAMG3Hy3kA_",
    "outputId": "69e35952-59d5-4256-8e1d-31a66ca1aa34"
   },
   "outputs": [
    {
     "name": "stdout",
     "output_type": "stream",
     "text": [
      "Tree of Thoughts Result:\n",
      " Here's a step-by-step analysis for the startup:\n",
      "\n",
      "**Step 1: Analyze potential challenges**\n",
      "\n",
      "* Fitness tracker:\n",
      "\t+ Challenge: High competition from established apps like Fitbit and MyFitnessPal, requiring significant investment in marketing and user acquisition.\n",
      "\t+ Technical challenges: Integrating various sensors and wearables, ensuring accurate tracking and data analysis.\n",
      "* Budgeting tool:\n",
      "\t+ Challenge: Building a user base and encouraging users to regularly track their spending, potentially facing competition from established budgeting apps like Mint and Personal Capital.\n",
      "\t+ Technical challenges: Developing complex algorithms to analyze user spending habits and provide personalized recommendations.\n",
      "* Social networking app:\n",
      "\t+ Challenge: Breaking into a crowded market dominated by established players like Facebook, Instagram, and Twitter, requiring significant marketing and user acquisition efforts.\n",
      "\t+ Technical challenges: Ensuring a stable and scalable platform, handling large volumes of user data and interactions.\n",
      "\n",
      "**Step 2: Evaluate market demand**\n",
      "\n",
      "* Fitness tracker:\n",
      "\t+ Market size: Estimated 200 million people use fitness trackers worldwide (Source: Statista).\n",
      "\t+ Growth potential: Moderate, with increasing adoption of wearable technology.\n",
      "* Budgeting tool:\n",
      "\t+ Market size: Estimated 150 million people use personal finance apps worldwide (Source: Statista).\n",
      "\t+ Growth potential: High, with more people seeking financial management solutions.\n",
      "* Social networking app:\n",
      "\t+ Market size: Estimated 3.8 billion social media users worldwide (Source: Hootsuite).\n",
      "\t+ Growth potential: Steady, with social media users continuing to grow.\n",
      "\n",
      "**Step 3: Compare revenue models**\n",
      "\n",
      "* Fitness tracker:\n",
      "\t+ Subscription-based model with monthly or annual fees.\n",
      "\t+ In-app purchases for premium features or integrations with wearables.\n",
      "\t+ Advertising revenue from partnering with fitness-related businesses.\n",
      "* Budgeting tool:\n",
      "\t+ Subscription-based model with monthly or annual fees.\n",
      "\t+ Advertising revenue from partnering with financial institutions and businesses.\n",
      "\t+ Affiliate revenue through partnerships with financial services providers.\n",
      "* Social networking app:\n",
      "\t+ Advertising revenue from displaying ads to users.\n",
      "\t+ Premium features or subscriptions for enhanced functionality, such as enhanced security or priority customer support.\n",
      "\t+ Data monetization through anonymized user data analysis and selling insights to businesses.\n",
      "\n",
      "**Step 4: Choose the best option and justify the decision**\n",
      "\n",
      "Based on the analysis, the startup should choose the budgeting tool as the best option. Here's why:\n",
      "\n",
      "* The budgeting tool addresses a pressing need in the market, with a high growth potential and relatively less competition compared to the fitness tracker and social networking app.\n",
      "* The subscription-based model and advertising revenue streams provide a stable and predictable revenue stream.\n",
      "* The technical challenges, while significant, are manageable with a strong development team.\n",
      "* The market demand and growth potential for budgeting tools are high, indicating a strong potential for user acquisition and retention.\n",
      "\n",
      "By choosing the budgeting tool, the startup can establish a strong foundation for growth and revenue generation, while also addressing a critical need in the market.\n"
     ]
    }
   ],
   "source": [
    "tot_prompt = \"\"\"A startup wants to launch a new mobile app. They have three options: a fitness tracker, a budgeting tool, and a social networking app.\n",
    "Step 1: Analyze potential challenges.\n",
    "Step 2: Evaluate market demand.\n",
    "Step 3: Compare revenue models.\n",
    "Step 4: Choose the best option and justify the decision.\"\"\"\n",
    "tot_result = prompt_groq(tot_prompt)\n",
    "print(\"Tree of Thoughts Result:\\n\", tot_result)"
   ]
  },
  {
   "cell_type": "markdown",
   "metadata": {
    "id": "S4RhLKrMB0_-"
   },
   "source": [
    "# 6. ReAct (Reasoning + Acting)\n",
    "\n",
    "### What is ReAct?\n",
    "ReAct combines Reasoning and Acting to enable models to interact with external tools (e.g., APIs, databases) while reasoning through a problem. It is particularly useful for tasks requiring dynamic information retrieval.\n",
    "\n",
    "Example: Using ReAct to Answer a Question\n",
    "\n",
    "\n",
    "Let’s simulate a ReAct workflow where the model retrieves information from an external API.\n",
    "\n",
    "This is the fundamental basis of AI Agents (Thinking + Action)"
   ]
  },
  {
   "cell_type": "code",
   "execution_count": null,
   "metadata": {
    "colab": {
     "base_uri": "https://localhost:8080/"
    },
    "id": "p3Bf002FBjlL",
    "outputId": "6abfba0f-9b43-4fdb-943a-04d595aec3f8"
   },
   "outputs": [
    {
     "name": "stdout",
     "output_type": "stream",
     "text": [
      "Here is the step-by-step process to convert the speed of light from m/s to km/h:\n",
      "\n",
      "Thought: The query requires converting the speed of light from meters per second (m/s) to kilometers per hour (km/h). We need to know the speed of light in m/s and use the convert tool to perform the unit conversion.\n",
      "\n",
      "Action: search(\"speed of light in m/s\")\n",
      "Observation: The speed of light in vacuum is approximately 299,792,458 m/s.\n",
      "\n",
      "Thought: Now that we have the speed of light in m/s, we can use the convert tool to convert it to km/h.\n",
      "\n",
      "Action: convert(299,792,458, \"m/s\", \"km/h\")\n",
      "Observation: The speed of light is approximately 1,079,252,808 km/h.\n",
      "\n",
      "Verification: To cross-check the result, we can use the calculate tool to perform the conversion manually. 1 kilometer is equal to 1000 meters, and 1 hour is equal to 3600 seconds. So, we can convert the speed of light as follows: (299,792,458 m/s) × (3600 s/h) ÷ (1000 m/km) ≈ 1,079,252,808 km/h.\n",
      "\n",
      "Verification: The manual calculation matches the result obtained using the convert tool.\n",
      "\n",
      "Final Answer: The speed of light is approximately 1,079,252,808 kilometers per hour.\n"
     ]
    }
   ],
   "source": [
    "def react(query: str) -> str:\n",
    "    prompt = f\"\"\"Answer using the ReAct format with available tools:\n",
    "\n",
    "    Tools:\n",
    "    - search: General knowledge lookup\n",
    "    - calculate: Math operations\n",
    "    - convert: Unit conversions\n",
    "\n",
    "    Query: {query}\n",
    "\n",
    "    Step-by-Step Process:\n",
    "    1. Analyze query requirements\n",
    "    2. Identify needed information\n",
    "    3. Choose appropriate tools\n",
    "    4. Execute actions sequentially\n",
    "    5. Validate intermediate results\n",
    "    6. Formulate final answer\n",
    "\n",
    "    Follow this template:\n",
    "    Thought: [Detailed reasoning]\n",
    "    Action: [Tool call]\n",
    "    Observation: [Tool response]\n",
    "    ...repeat...\n",
    "    Verification: [Cross-check results]\n",
    "    Final Answer: [Concise answer]\"\"\"\n",
    "\n",
    "    response = client.chat.completions.create(\n",
    "        messages=[{\"role\": \"user\", \"content\": prompt}],\n",
    "        model=\"llama3-70b-8192\",\n",
    "        temperature=0.3,\n",
    "        max_tokens=600\n",
    "    )\n",
    "    return response.choices[0].message.content\n",
    "\n",
    "# Test\n",
    "print(react(\"Convert the speed of light from m/s to km/h\"))"
   ]
  },
  {
   "cell_type": "markdown",
   "metadata": {
    "id": "Hcbr5KfVCLSl"
   },
   "source": [
    "#### Explanation\n",
    "- The model reasons through the problem and interacts with an external tool (API) to retrieve information.\n",
    "\n",
    "- This approach is useful for tasks requiring up-to-date or external data."
   ]
  },
  {
   "cell_type": "markdown",
   "metadata": {
    "id": "3YBl8HDbCNHJ"
   },
   "source": [
    "## 5. Comparison of CoT, and ReAct\n",
    "\n",
    "| Method | Description | Use Case |\n",
    "|--------|-------------|-----------|\n",
    "| Chain of Thought | Linear step-by-step reasoning | Arithmetic, logic, planning |\n",
    "| ReAct | Combines reasoning with external actions (e.g., API calls) | Dynamic information retrieval |"
   ]
  },
  {
   "cell_type": "markdown",
   "metadata": {
    "id": "6zuu8P9mFLke"
   },
   "source": [
    "##**Assignment Task**"
   ]
  },
  {
   "cell_type": "markdown",
   "metadata": {
    "id": "dSsenUEcEMS_"
   },
   "source": [
    "\n",
    "#### **1️. Zero-Shot Prompting**  \n",
    "**Q:** Classify the sentiment of this sentence: 'The service at the restaurant was incredibly slow and disappointing.' as positive, negative, or neutral.\n",
    "\n",
    "\n",
    "\n",
    "#### **2️. Few-Shot Prompting**  \n",
    "**Q:** Identify the language of this sentence: 'Das Wetter ist heute schön.'\n",
    "- **Examples:**  \n",
    "  - 'Bonjour, comment ça va?' is French  \n",
    "  - 'Hola, ¿cómo estás?' is Spanish\n",
    "  - 'Guten Tag, wie geht es Ihnen?' is German\n",
    "\n",
    "\n",
    "\n",
    "#### **3️. Chain of Thought (CoT) Prompting**  \n",
    "**Q:** A train travels at 60 km/h for 2 hours, then at 80 km/h for 3 hours. What is the total distance traveled? Show your calculations step by step.\n",
    "\n",
    "\n",
    "#### **4. Graph of Thought (GoT) Prompting**  \n",
    "**Q:** You are designing an AI debate assistant that helps users form strong arguments on controversial topics (e.g., \"Should AI replace human jobs?\"). The AI must consider multiple perspectives before generating a well-balanced argument.\n",
    "\n",
    "Question:\n",
    "\n",
    "Create a GoT-based prompt that enables the AI to simultaneously evaluate multiple viewpoints (e.g., economic, ethical, social, technological) before forming an answer.\n",
    "Ensure that the model dynamically connects different perspectives rather than following a single train of thought.\n",
    "\n",
    "#### **5. Train of Thought (GoT) Prompting**  \n",
    "**Q:** You are building an AI story generator that creates mystery stories by gradually revealing clues.\n",
    "\n",
    "Question:\n",
    "\n",
    "Create a ToT-based prompt that makes the AI:\n",
    "Set up a compelling mystery scenario\n",
    "Introduce characters and possible suspects step by step\n",
    "Reveal clues progressively, eliminating false leads\n",
    "Conclude with a logical and satisfying resolution\n",
    "\n",
    "\n",
    "#### **6. ReAct Prompting**  \n",
    "**Q:** Retrieve the real-time stock price of Apple Inc. (AAPL). Analyze its recent trend to determine whether the stock is rising or falling. Based on the trend, decide whether it is a good time to buy, sell, or hold\n"
   ]
  }
 ],
 "metadata": {
  "colab": {
   "provenance": []
  },
  "kernelspec": {
   "display_name": "Python 3",
   "language": "python",
   "name": "python3"
  },
  "language_info": {
   "codemirror_mode": {
    "name": "ipython",
    "version": 3
   },
   "file_extension": ".py",
   "mimetype": "text/x-python",
   "name": "python",
   "nbconvert_exporter": "python",
   "pygments_lexer": "ipython3",
   "version": "3.13.1"
  }
 },
 "nbformat": 4,
 "nbformat_minor": 1
}
